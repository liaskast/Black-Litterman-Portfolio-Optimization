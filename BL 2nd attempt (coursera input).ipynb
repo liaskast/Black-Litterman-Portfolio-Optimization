{
 "cells": [
  {
   "cell_type": "code",
   "execution_count": 15,
   "metadata": {},
   "outputs": [
    {
     "data": {
      "text/plain": [
       "array([0, 1, 2, 3])"
      ]
     },
     "execution_count": 15,
     "metadata": {},
     "output_type": "execute_result"
    }
   ],
   "source": [
    "np.arange(4)"
   ]
  },
  {
   "cell_type": "code",
   "execution_count": 16,
   "metadata": {},
   "outputs": [],
   "source": [
    "import numpy as np\n",
    "import pandas as pd\n",
    "\n",
    "def as_colvec(x):   \n",
    "    if (x.ndim == 2):\n",
    "        return x\n",
    "    else:\n",
    "        return np.expand_dims(x,axis=1)"
   ]
  },
  {
   "cell_type": "code",
   "execution_count": 17,
   "metadata": {},
   "outputs": [
    {
     "data": {
      "text/plain": [
       "array([[0],\n",
       "       [1],\n",
       "       [2],\n",
       "       [3]])"
      ]
     },
     "execution_count": 17,
     "metadata": {},
     "output_type": "execute_result"
    }
   ],
   "source": [
    "as_colvec (np.arange(4))"
   ]
  },
  {
   "cell_type": "code",
   "execution_count": 18,
   "metadata": {},
   "outputs": [],
   "source": [
    "def implied_returns(delta,sigma,w):    #delta= risk aversion coefficient, sigma= var covar matrix, w=portfolio weights\n",
    "    ir = delta* sigma.dot(w).squeeze()\n",
    "    ir.name = 'Implied Returns'\n",
    "    return ir"
   ]
  },
  {
   "cell_type": "code",
   "execution_count": 19,
   "metadata": {},
   "outputs": [],
   "source": [
    "def proportional_prior(sigma,tau,p):\n",
    "    helit_omega = p.dot(tau*sigma).dot(p.T)\n",
    "    return pd.DataFrame(np.diag(np.diag(helit_omega.values)),index=p.index, columns=p.index)"
   ]
  },
  {
   "cell_type": "code",
   "execution_count": 20,
   "metadata": {},
   "outputs": [],
   "source": [
    "from numpy.linalg import inv\n",
    "\n",
    "def bl(w_prior, sigma_prior, p, q, \n",
    "       omega = None,\n",
    "       delta=7.5, tau=.20):\n",
    "\n",
    "    if omega is None:\n",
    "         omega = proportional_prior(sigma_prior, tau, p)\n",
    "    \n",
    "    N = w_prior.shape[0]\n",
    "    \n",
    "    K = q.shape[0]\n",
    "    \n",
    "    pi = implied_returns(delta, sigma_prior, w_prior)\n",
    "    \n",
    "    sigma_prior_scaled = tau * sigma_prior\n",
    "    \n",
    "    nu_bl = pi + sigma_prior_scaled.dot(p.T).dot(inv(p.dot(sigma_prior_scaled).dot(p.T)+ omega).dot(q-p.dot(pi).values))\n",
    "    ##nu_bl = pi + (p.T).dot(sigma_prior_scaled).dot(inv(sigma_prior_scaled.dot(p)).dot(p.T)+ omega).dot(q-p.dot(pi).values)\n",
    "    #nu_bl = pi + (p.T)@(sigma_prior_scaled)@(inv(sigma_prior_scaled@(p))@(p.T)+ omega)@(q-p@(pi).values)\n",
    "\n",
    "    \n",
    "    sigma_bl = sigma_prior + sigma_prior_scaled - sigma_prior_scaled.dot(p.T).dot(inv(p.dot(sigma_prior_scaled).dot(p.T)+ omega)).dot(p).dot(sigma_prior_scaled)\n",
    "    ##sigma_bl = sigma_prior + sigma_prior_scaled - (p.T).dot(sigma_prior_scaled).dot(inv(sigma_prior_scaled.dot(p).dot(p.T)+ omega)).dot(sigma_prior_scaled).dot(p)\n",
    "    \n",
    "    #sigma_bl = sigma_prior + sigma_prior_scaled - (p.T)@(sigma_prior_scaled)@(inv(sigma_prior_scaled@ p @(p.T)+ omega))@(sigma_prior_scaled)@p\n",
    "\n",
    "    return (nu_bl, sigma_bl)\n"
   ]
  },
  {
   "cell_type": "code",
   "execution_count": 21,
   "metadata": {},
   "outputs": [],
   "source": [
    "prices = pd.read_excel('prices.xlsx',header=0,index_col=0, parse_dates= True, usecols=\"A:H\")\n",
    "returns = prices.pct_change()\n",
    "returns = returns.dropna()"
   ]
  },
  {
   "cell_type": "code",
   "execution_count": 22,
   "metadata": {},
   "outputs": [],
   "source": [
    "#returns= pd.DataFrame(returns)\n",
    "\n",
    "#tickers = returns[:0] \n",
    "tickers = ['Euro Gov', 'Greek Gov', 'EU Corporate', 'EU HY' , 'Eur Eq', 'US Eq', 'Cash']\n",
    "s = returns.cov()*52\n",
    "s = np.matrix(s)\n",
    "s = pd.DataFrame(s,index=tickers, columns=tickers)"
   ]
  },
  {
   "cell_type": "code",
   "execution_count": 23,
   "metadata": {},
   "outputs": [
    {
     "data": {
      "text/plain": [
       "Euro Gov        0.004326\n",
       "Greek Gov       0.069389\n",
       "EU Corporate    0.002424\n",
       "EU HY           0.017458\n",
       "Eur Eq          0.052837\n",
       "US Eq           0.045285\n",
       "Cash           -0.000062\n",
       "Name: Implied Returns, dtype: float64"
      ]
     },
     "execution_count": 23,
     "metadata": {},
     "output_type": "execute_result"
    }
   ],
   "source": [
    "\n",
    "#input the weights of the benchmark\n",
    "WEuroGov = .30\n",
    "WGreekGov = .10\n",
    "WEUCorporate = .20\n",
    "WEUHY = .05\n",
    "WEurEq = .10\n",
    "WUSEq = .10\n",
    "WCash = .15\n",
    "\n",
    "weights = pd.Series([WEuroGov, WGreekGov, WEUCorporate, WEUHY, WEurEq, WUSEq, WCash],index= tickers)\n",
    "#weights = np.matrix(weights)\n",
    "#weights = pd.DataFrame(weights)\n",
    "\n",
    "pi=implied_returns(delta=7.5,sigma=s, w=weights)\n",
    "pi\n"
   ]
  },
  {
   "cell_type": "code",
   "execution_count": 24,
   "metadata": {},
   "outputs": [],
   "source": [
    "def inverse(d):\n",
    "    \n",
    "    return pd.DataFrame(inv(d.values), index=d.columns, columns=d.index)\n",
    "\n",
    "def w_msr(sigma, mu, scale=True):\n",
    "    \n",
    "    w = inverse(sigma).dot(mu)\n",
    "    \n",
    "    if scale:\n",
    "        w= w/sum(w)\n",
    "        return w\n",
    "    "
   ]
  },
  {
   "cell_type": "code",
   "execution_count": 25,
   "metadata": {},
   "outputs": [
    {
     "data": {
      "text/plain": [
       "Euro Gov        33.83\n",
       "Greek Gov       -1.33\n",
       "EU Corporate    74.64\n",
       "EU HY          -10.24\n",
       "Eur Eq          -0.03\n",
       "US Eq            3.97\n",
       "Cash            -0.83\n",
       "dtype: float64"
      ]
     },
     "execution_count": 25,
     "metadata": {},
     "output_type": "execute_result"
    }
   ],
   "source": [
    "#input the expectations\n",
    "EEuroGov = .50\n",
    "EGreekGov = .10\n",
    "EEUCorporate = .20\n",
    "EEUHY = .05\n",
    "EEurEq = .05\n",
    "EUSEq = .05\n",
    "ECash = .0\n",
    "\n",
    "mu_exp = pd.Series([EEuroGov, EGreekGov, EEUCorporate, EEUHY, EEurEq, EUSEq, ECash], index=tickers)\n",
    "np.round(w_msr(s, mu_exp)*100,2)"
   ]
  },
  {
   "cell_type": "code",
   "execution_count": 26,
   "metadata": {},
   "outputs": [],
   "source": [
    "q= pd.Series(mu_exp)\n",
    "\n",
    "p= pd.DataFrame([\n",
    "    {'Euro Gov':1, 'Greek Gov':0, 'EU Corporate':0, 'EU HY':0, 'Eur Eq':0, 'US Eq':0, 'Cash':0},\n",
    "    {'Euro Gov':0, 'Greek Gov':1, 'EU Corporate':0, 'EU HY':0, 'Eur Eq':0, 'US Eq':0, 'Cash':0},\n",
    "    {'Euro Gov':0, 'Greek Gov':0, 'EU Corporate':1, 'EU HY':0, 'Eur Eq':0, 'US Eq':0, 'Cash':0},\n",
    "    {'Euro Gov':0, 'Greek Gov':0, 'EU Corporate':0, 'EU HY':1, 'Eur Eq':0, 'US Eq':0, 'Cash':0},\n",
    "    {'Euro Gov':0, 'Greek Gov':0, 'EU Corporate':0, 'EU HY':0, 'Eur Eq':1, 'US Eq':0, 'Cash':0},\n",
    "    {'Euro Gov':0, 'Greek Gov':0, 'EU Corporate':0, 'EU HY':0, 'Eur Eq':0, 'US Eq':1, 'Cash':0},\n",
    "    {'Euro Gov':0, 'Greek Gov':0, 'EU Corporate':0, 'EU HY':0, 'Eur Eq':0, 'US Eq':0, 'Cash':1}\n",
    "    ])\n"
   ]
  },
  {
   "cell_type": "code",
   "execution_count": 27,
   "metadata": {},
   "outputs": [
    {
     "data": {
      "text/plain": [
       "Euro Gov        0.292083\n",
       "Greek Gov       0.282988\n",
       "EU Corporate    0.121205\n",
       "EU HY           0.122930\n",
       "Eur Eq          0.039985\n",
       "US Eq          -0.049595\n",
       "Cash           -0.000171\n",
       "dtype: float64"
      ]
     },
     "execution_count": 27,
     "metadata": {},
     "output_type": "execute_result"
    }
   ],
   "source": [
    "bl_mu, bl_sigma = bl(w_prior= weights, sigma_prior=s, p=p, q=q)\n",
    "\n",
    "bl_mu"
   ]
  },
  {
   "cell_type": "code",
   "execution_count": 28,
   "metadata": {},
   "outputs": [
    {
     "data": {
      "text/plain": [
       "Euro Gov        0.331657\n",
       "Greek Gov      -0.004294\n",
       "EU Corporate    0.586814\n",
       "EU HY          -0.023729\n",
       "Eur Eq          0.002434\n",
       "US Eq           0.009402\n",
       "Cash            0.097717\n",
       "dtype: float64"
      ]
     },
     "execution_count": 28,
     "metadata": {},
     "output_type": "execute_result"
    }
   ],
   "source": [
    "w_msr(bl_sigma, bl_mu)"
   ]
  },
  {
   "cell_type": "code",
   "execution_count": null,
   "metadata": {},
   "outputs": [],
   "source": []
  },
  {
   "cell_type": "code",
   "execution_count": null,
   "metadata": {},
   "outputs": [],
   "source": []
  },
  {
   "cell_type": "code",
   "execution_count": null,
   "metadata": {},
   "outputs": [],
   "source": []
  },
  {
   "cell_type": "code",
   "execution_count": null,
   "metadata": {},
   "outputs": [],
   "source": []
  }
 ],
 "metadata": {
  "kernelspec": {
   "display_name": "Python 3",
   "language": "python",
   "name": "python3"
  },
  "language_info": {
   "codemirror_mode": {
    "name": "ipython",
    "version": 3
   },
   "file_extension": ".py",
   "mimetype": "text/x-python",
   "name": "python",
   "nbconvert_exporter": "python",
   "pygments_lexer": "ipython3",
   "version": "3.7.3"
  }
 },
 "nbformat": 4,
 "nbformat_minor": 2
}
