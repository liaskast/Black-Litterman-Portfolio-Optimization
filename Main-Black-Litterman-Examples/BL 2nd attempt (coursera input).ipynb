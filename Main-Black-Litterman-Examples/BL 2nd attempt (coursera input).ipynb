{
 "cells": [
  {
   "cell_type": "markdown",
   "metadata": {},
   "source": [
    "Creates function that converts vector to column vector"
   ]
  },
  {
   "cell_type": "code",
   "execution_count": 1,
   "metadata": {},
   "outputs": [],
   "source": [
    "import numpy as np\n",
    "import pandas as pd\n",
    "\n",
    "def as_colvec(x):   \n",
    "    if (x.ndim == 2):\n",
    "        return x\n",
    "    else:\n",
    "        return np.expand_dims(x,axis=1)"
   ]
  },
  {
   "cell_type": "markdown",
   "metadata": {},
   "source": [
    "Creates 4d array"
   ]
  },
  {
   "cell_type": "code",
   "execution_count": 2,
   "metadata": {},
   "outputs": [
    {
     "data": {
      "text/plain": [
       "array([0, 1, 2, 3])"
      ]
     },
     "execution_count": 2,
     "metadata": {},
     "output_type": "execute_result"
    }
   ],
   "source": [
    "np.arange(4)"
   ]
  },
  {
   "cell_type": "markdown",
   "metadata": {},
   "source": [
    "Creates a 4d column vector"
   ]
  },
  {
   "cell_type": "code",
   "execution_count": 3,
   "metadata": {},
   "outputs": [
    {
     "data": {
      "text/plain": [
       "array([[0],\n",
       "       [1],\n",
       "       [2],\n",
       "       [3]])"
      ]
     },
     "execution_count": 3,
     "metadata": {},
     "output_type": "execute_result"
    }
   ],
   "source": [
    "as_colvec (np.arange(4))"
   ]
  },
  {
   "cell_type": "markdown",
   "metadata": {},
   "source": [
    "Function that calculates Implied Returns"
   ]
  },
  {
   "cell_type": "code",
   "execution_count": 4,
   "metadata": {},
   "outputs": [],
   "source": [
    "def implied_returns(delta,sigma,w):    #delta= risk aversion coefficient, sigma= var covar matrix, w=portfolio weights\n",
    "    ir = delta* sigma.dot(w).squeeze()\n",
    "    ir.name = 'Implied Returns'\n",
    "    return ir"
   ]
  },
  {
   "cell_type": "markdown",
   "metadata": {},
   "source": [
    "Black Litterman Functions"
   ]
  },
  {
   "cell_type": "code",
   "execution_count": 5,
   "metadata": {},
   "outputs": [],
   "source": [
    "def proportional_prior(sigma,tau,p):\n",
    "    helit_omega = p.dot(tau*sigma).dot(p.T)\n",
    "    return pd.DataFrame(np.diag(np.diag(helit_omega.values)),index=p.index, columns=p.index)"
   ]
  },
  {
   "cell_type": "code",
   "execution_count": 6,
   "metadata": {},
   "outputs": [],
   "source": [
    "from numpy.linalg import inv\n",
    "\n",
    "def bl(w_prior, sigma_prior, p, q, \n",
    "       omega = None,\n",
    "       delta=7.5, tau=.20):\n",
    "\n",
    "    if omega is None:\n",
    "         omega = proportional_prior(sigma_prior, tau, p)\n",
    "    \n",
    "    N = w_prior.shape[0]\n",
    "    \n",
    "    K = q.shape[0]\n",
    "    \n",
    "    pi = implied_returns(delta, sigma_prior, w_prior)\n",
    "    \n",
    "    sigma_prior_scaled = tau * sigma_prior\n",
    "    \n",
    "    nu_bl = pi + sigma_prior_scaled.dot(p.T).dot(inv(p.dot(sigma_prior_scaled).dot(p.T)+ omega).dot(q-p.dot(pi).values))\n",
    "    ##nu_bl = pi + (p.T).dot(sigma_prior_scaled).dot(inv(sigma_prior_scaled.dot(p)).dot(p.T)+ omega).dot(q-p.dot(pi).values)\n",
    "    #nu_bl = pi + (p.T)@(sigma_prior_scaled)@(inv(sigma_prior_scaled@(p))@(p.T)+ omega)@(q-p@(pi).values)\n",
    "\n",
    "    \n",
    "    sigma_bl = sigma_prior + sigma_prior_scaled - sigma_prior_scaled.dot(p.T).dot(inv(p.dot(sigma_prior_scaled).dot(p.T)+ omega)).dot(p).dot(sigma_prior_scaled)\n",
    "    ##sigma_bl = sigma_prior + sigma_prior_scaled - (p.T).dot(sigma_prior_scaled).dot(inv(sigma_prior_scaled.dot(p).dot(p.T)+ omega)).dot(sigma_prior_scaled).dot(p)\n",
    "    \n",
    "    #sigma_bl = sigma_prior + sigma_prior_scaled - (p.T)@(sigma_prior_scaled)@(inv(sigma_prior_scaled@ p @(p.T)+ omega))@(sigma_prior_scaled)@p\n",
    "\n",
    "    return (nu_bl, sigma_bl)\n"
   ]
  },
  {
   "cell_type": "markdown",
   "metadata": {},
   "source": [
    "# Reads in Data"
   ]
  },
  {
   "cell_type": "markdown",
   "metadata": {},
   "source": [
    "Reads only columns A:H from Excel i.e. until \"Cash\". Not the rest of the columns. \n",
    "\n",
    "It reads the prices and computes the returns of each product i.e. the percentage change between two successive prices."
   ]
  },
  {
   "cell_type": "code",
   "execution_count": 36,
   "metadata": {},
   "outputs": [
    {
     "name": "stdout",
     "output_type": "stream",
     "text": [
      "                     142.064800   144.349700   138.155125   128.191574   \\\n",
      "2004-08-13 00:00:00                                                       \n",
      "2004-08-20              142.1387     144.3327   138.266540   128.319335   \n",
      "2004-08-27              142.1587     144.4204   138.325071   128.933075   \n",
      "2004-09-03              141.5786     143.8534   138.003604   129.354700   \n",
      "2004-09-10              142.4513     144.6262   138.423808   129.771681   \n",
      "2004-09-17              142.6912     144.9521   138.543642   130.486337   \n",
      "2004-09-24              143.2086     145.3069   138.776881   130.970650   \n",
      "2004-10-01              143.0084     145.1273   138.875262   130.794086   \n",
      "2004-10-08              143.7116     145.8509   139.249365   131.284771   \n",
      "2004-10-15              144.2088     146.3284   139.587171   131.617013   \n",
      "2004-10-22              144.5268     146.6996   139.733671   131.563178   \n",
      "2004-10-29              144.5377     146.7287   139.761422   132.087233   \n",
      "2004-11-05              144.4694     146.6372   139.727049   132.663670   \n",
      "2004-11-12              145.5643     147.7583   140.245713   133.273040   \n",
      "2004-11-19              145.5142     147.6510   140.123761   133.793327   \n",
      "2004-11-26              146.2965     148.3734   140.573601   134.406261   \n",
      "2004-12-03              146.4438     148.5765   140.719547   135.419903   \n",
      "2004-12-10              147.6526     149.6558   141.105839   135.738797   \n",
      "2004-12-17              147.6839     149.5632   140.905259   136.188956   \n",
      "2004-12-24              147.8069     149.7793   141.029695   135.989096   \n",
      "2004-12-31              147.1691     149.2496   140.861607   136.065524   \n",
      "2005-01-07              147.9738     149.9393   141.179831   136.540722   \n",
      "2005-01-14              148.5096     150.4459   141.438109   136.559568   \n",
      "2005-01-21              148.5996     150.5451   141.430452   136.724290   \n",
      "2005-01-28              148.8699     150.8190   141.625005   137.412706   \n",
      "2005-02-04              149.5270     150.7670   141.752183   138.003150   \n",
      "2005-02-11              149.8343     151.0659   141.983761   138.732465   \n",
      "2005-02-18              148.4479     149.7957   141.606122   139.114137   \n",
      "2005-02-25              147.9940     149.6127   141.643312   139.231947   \n",
      "2005-03-04              148.3080     149.9259   141.937437   139.878367   \n",
      "2005-03-11              147.8556     149.5575   141.964280   139.634892   \n",
      "...                          ...          ...          ...          ...   \n",
      "2019-01-25              257.4750     264.9722   219.381375   375.129834   \n",
      "2019-02-01              257.3753     268.3180   219.932900   376.479500   \n",
      "2019-02-08              256.8379     268.5490   220.325200   376.947600   \n",
      "2019-02-15              257.3648     270.9665   220.452300   378.491000   \n",
      "2019-02-22              257.5822     272.3740   220.658600   381.151000   \n",
      "2019-03-01              256.9287     275.5681   220.763400   384.755100   \n",
      "2019-03-08              259.6536     272.2643   220.962000   383.757900   \n",
      "2019-03-15              259.4358     277.0738   221.496200   387.235600   \n",
      "2019-03-22              261.5941     278.1351   221.856400   387.761300   \n",
      "2019-03-29              261.7876     278.7058   222.219300   388.742900   \n",
      "2019-04-05              261.2254     282.8081   222.287100   391.182600   \n",
      "2019-04-12              261.1198     287.4561   222.406300   392.689600   \n",
      "2019-04-19              261.1857     287.5442   222.740100   394.149400   \n",
      "2019-04-26              261.7181     287.9851   223.060800   393.578300   \n",
      "2019-05-03              261.8620     287.2610   223.194500   393.834700   \n",
      "2019-05-10              261.7740     283.6883   222.923700   390.753600   \n",
      "2019-05-17              262.8799     286.0228   222.923000   390.014800   \n",
      "2019-05-24              263.4044     286.8896   222.562700   389.391700   \n",
      "2019-05-31              264.5505     298.1121   222.704300   387.823400   \n",
      "2019-06-07              267.8574     301.4269   223.116500   389.455800   \n",
      "2019-06-14              268.0331     305.4424   223.373000   391.233600   \n",
      "2019-06-21              269.4095     308.1375   224.133900   395.831900   \n",
      "2019-06-28              270.6259     311.7212   224.342000   396.408100   \n",
      "2019-07-05              272.8581     318.6148   224.745200   399.147600   \n",
      "2019-07-12              270.2951     313.4126   224.570400   398.246300   \n",
      "2019-07-19              272.9966     318.2096   224.996300   397.521900   \n",
      "2019-07-26              273.8145     320.5100   225.415300   400.089200   \n",
      "2019-08-02              276.3157     320.0379   225.377700   397.660200   \n",
      "2019-08-09              276.1795     318.2656   225.728000   396.696900   \n",
      "2019-08-12              276.1795     318.2656   225.728000   396.696900   \n",
      "\n",
      "                     3556.040000  1064.803000  120.179900   \n",
      "2004-08-13 00:00:00                                         \n",
      "2004-08-20           3596.680000     1098.352   120.227600  \n",
      "2004-08-27           3716.910000     1107.768   120.275300  \n",
      "2004-09-03           3754.170000     1113.630   120.323000  \n",
      "2004-09-10           3751.230000     1123.916   120.371300  \n",
      "2004-09-17           3798.140000     1128.548   120.419000  \n",
      "2004-09-24           3771.480000     1110.106   120.466800  \n",
      "2004-10-01           3812.490000     1131.501   120.514800  \n",
      "2004-10-08           3830.760000     1122.139   120.563500  \n",
      "2004-10-15           3770.140000     1108.197   120.616800  \n",
      "2004-10-22           3767.320000     1095.735   120.665000  \n",
      "2004-10-29           3772.740000     1130.199   120.713200  \n",
      "2004-11-05           3872.570000     1166.171   120.762700  \n",
      "2004-11-12           3918.190000     1184.174   120.811600  \n",
      "2004-11-19           3880.600000     1170.339   120.860400  \n",
      "2004-11-26           3876.750000     1182.649   120.909200  \n",
      "2004-12-03           3902.990000     1191.167   120.957500  \n",
      "2004-12-10           3878.400000     1188.000   121.002600  \n",
      "2004-12-17           3873.800000     1194.220   121.051800  \n",
      "2004-12-24           3907.590000     1210.128   121.100800  \n",
      "2004-12-31           3900.410000     1211.916   121.149900  \n",
      "2005-01-07           3960.950000     1186.193   121.199300  \n",
      "2005-01-14           3909.890000     1184.516   121.248100  \n",
      "2005-01-21           3906.930000     1167.867   121.296300  \n",
      "2005-01-28           3941.400000     1171.363   121.345400  \n",
      "2005-02-04           4044.100000     1203.030   121.394100  \n",
      "2005-02-11           4106.880000     1205.304   121.442600  \n",
      "2005-02-18           4107.370000     1201.586   121.491400  \n",
      "2005-02-25           4101.170000     1211.366   121.540100  \n",
      "2005-03-04           4153.910000     1222.125   121.588800  \n",
      "2005-03-11           4074.670000     1200.075   121.636600  \n",
      "...                          ...          ...          ...  \n",
      "2019-01-25           6411.440000     2664.760   139.522400  \n",
      "2019-02-01           6499.100000     2706.530   139.512500  \n",
      "2019-02-08           6515.040000     2707.880   139.502600  \n",
      "2019-02-15           6721.250000     2775.600   139.492700  \n",
      "2019-02-22           6763.100000     2792.670   139.482700  \n",
      "2019-03-01           6807.910000     2803.690   139.472700  \n",
      "2019-03-08           6807.610000     2743.070   139.462700  \n",
      "2019-03-15           6999.550000     2822.480   139.452700  \n",
      "2019-03-22           6935.810000     2800.710   139.442700  \n",
      "2019-03-29           7019.660000     2834.400   139.432700  \n",
      "2019-04-05           7153.740000     2892.740   139.422900  \n",
      "2019-04-12           7116.350000     2907.410   139.412900  \n",
      "2019-04-19           7158.320000     2905.030   139.403000  \n",
      "2019-04-26           7208.610000     2939.880   139.393100  \n",
      "2019-05-03           7234.750000     2945.640   139.383200  \n",
      "2019-05-10           6999.370000     2881.400   139.373400  \n",
      "2019-05-17           7146.300000     2859.530   139.363500  \n",
      "2019-05-24           7077.070000     2826.060   139.353500  \n",
      "2019-05-31           6947.860000     2752.060   139.343500  \n",
      "2019-06-07           7124.900000     2873.340   139.333700  \n",
      "2019-06-14           7150.780000     2886.980   139.325100  \n",
      "2019-06-21           7265.270000     2950.460   139.315000  \n",
      "2019-06-28           7266.990000     2941.760   139.305100  \n",
      "2019-07-05           7365.480000     2990.410   139.295200  \n",
      "2019-07-12           7272.680000     3013.770   139.285300  \n",
      "2019-07-19           7284.570000     2976.610   139.275300  \n",
      "2019-07-26           7344.610000     3025.860   139.265396  \n",
      "2019-08-02           7115.790000     2932.050   139.255493  \n",
      "2019-08-09           7014.060000     2918.650   139.245900  \n",
      "2019-08-12           7023.819824     2918.650   139.241699  \n",
      "\n",
      "[783 rows x 7 columns]\n"
     ]
    }
   ],
   "source": [
    "prices = pd.read_excel('prices.xlsx',header=1,index_col=0, parse_dates= True, usecols=\"A:H\")\n",
    "returns = prices.pct_change()\n",
    "returns = returns.dropna()\n",
    "\n",
    "print(prices)"
   ]
  },
  {
   "cell_type": "markdown",
   "metadata": {},
   "source": [
    "Computes the Covariance of returns and multiplies with 52 weeks to get year's covariance."
   ]
  },
  {
   "cell_type": "code",
   "execution_count": 8,
   "metadata": {},
   "outputs": [],
   "source": [
    "#returns= pd.DataFrame(returns)\n",
    "\n",
    "#tickers = returns[:0] \n",
    "tickers = ['Euro Gov', 'Greek Gov', 'EU Corporate', 'EU HY' , 'Eur Eq', 'US Eq', 'Cash']\n",
    "s = returns.cov()*52\n",
    "s = np.matrix(s)\n",
    "s = pd.DataFrame(s,index=tickers, columns=tickers)"
   ]
  },
  {
   "cell_type": "markdown",
   "metadata": {},
   "source": [
    "Computes Implied Returns Weights"
   ]
  },
  {
   "cell_type": "code",
   "execution_count": 9,
   "metadata": {},
   "outputs": [
    {
     "data": {
      "text/plain": [
       "Euro Gov        0.004326\n",
       "Greek Gov       0.069389\n",
       "EU Corporate    0.002424\n",
       "EU HY           0.017458\n",
       "Eur Eq          0.052837\n",
       "US Eq           0.045285\n",
       "Cash           -0.000062\n",
       "Name: Implied Returns, dtype: float64"
      ]
     },
     "execution_count": 9,
     "metadata": {},
     "output_type": "execute_result"
    }
   ],
   "source": [
    "\n",
    "#input the weights of the benchmark\n",
    "WEuroGov = .30\n",
    "WGreekGov = .10\n",
    "WEUCorporate = .20\n",
    "WEUHY = .05\n",
    "WEurEq = .10\n",
    "WUSEq = .10\n",
    "WCash = .15\n",
    "\n",
    "weights = pd.Series([WEuroGov, WGreekGov, WEUCorporate, WEUHY, WEurEq, WUSEq, WCash],index= tickers)\n",
    "#weights = np.matrix(weights)\n",
    "#weights = pd.DataFrame(weights)\n",
    "\n",
    "pi=implied_returns(delta=7.5,sigma=s, w=weights)\n",
    "pi\n"
   ]
  },
  {
   "cell_type": "code",
   "execution_count": 10,
   "metadata": {},
   "outputs": [],
   "source": [
    "def inverse(d):\n",
    "    \n",
    "    return pd.DataFrame(inv(d.values), index=d.columns, columns=d.index)\n",
    "\n",
    "def w_msr(sigma, mu, scale=True):\n",
    "    \n",
    "    w = inverse(sigma).dot(mu)\n",
    "    \n",
    "    if scale:\n",
    "        w= w/sum(w)\n",
    "        return w\n",
    "    "
   ]
  },
  {
   "cell_type": "code",
   "execution_count": 11,
   "metadata": {},
   "outputs": [
    {
     "data": {
      "text/plain": [
       "Euro Gov        33.83\n",
       "Greek Gov       -1.33\n",
       "EU Corporate    74.64\n",
       "EU HY          -10.24\n",
       "Eur Eq          -0.03\n",
       "US Eq            3.97\n",
       "Cash            -0.83\n",
       "dtype: float64"
      ]
     },
     "execution_count": 11,
     "metadata": {},
     "output_type": "execute_result"
    }
   ],
   "source": [
    "#input the expectations\n",
    "EEuroGov = .50\n",
    "EGreekGov = .10\n",
    "EEUCorporate = .20\n",
    "EEUHY = .05\n",
    "EEurEq = .05\n",
    "EUSEq = .05\n",
    "ECash = .0\n",
    "\n",
    "mu_exp = pd.Series([EEuroGov, EGreekGov, EEUCorporate, EEUHY, EEurEq, EUSEq, ECash], index=tickers)\n",
    "np.round(w_msr(s, mu_exp)*100,2)"
   ]
  },
  {
   "cell_type": "code",
   "execution_count": 12,
   "metadata": {},
   "outputs": [],
   "source": [
    "q= pd.Series(mu_exp)\n",
    "\n",
    "p= pd.DataFrame([\n",
    "    {'Euro Gov':1, 'Greek Gov':0, 'EU Corporate':0, 'EU HY':0, 'Eur Eq':0, 'US Eq':0, 'Cash':0},\n",
    "    {'Euro Gov':0, 'Greek Gov':1, 'EU Corporate':0, 'EU HY':0, 'Eur Eq':0, 'US Eq':0, 'Cash':0},\n",
    "    {'Euro Gov':0, 'Greek Gov':0, 'EU Corporate':1, 'EU HY':0, 'Eur Eq':0, 'US Eq':0, 'Cash':0},\n",
    "    {'Euro Gov':0, 'Greek Gov':0, 'EU Corporate':0, 'EU HY':1, 'Eur Eq':0, 'US Eq':0, 'Cash':0},\n",
    "    {'Euro Gov':0, 'Greek Gov':0, 'EU Corporate':0, 'EU HY':0, 'Eur Eq':1, 'US Eq':0, 'Cash':0},\n",
    "    {'Euro Gov':0, 'Greek Gov':0, 'EU Corporate':0, 'EU HY':0, 'Eur Eq':0, 'US Eq':1, 'Cash':0},\n",
    "    {'Euro Gov':0, 'Greek Gov':0, 'EU Corporate':0, 'EU HY':0, 'Eur Eq':0, 'US Eq':0, 'Cash':1}\n",
    "    ])\n"
   ]
  },
  {
   "cell_type": "code",
   "execution_count": 13,
   "metadata": {},
   "outputs": [
    {
     "data": {
      "text/plain": [
       "Euro Gov        0.292083\n",
       "Greek Gov       0.282988\n",
       "EU Corporate    0.121205\n",
       "EU HY           0.122930\n",
       "Eur Eq          0.039985\n",
       "US Eq          -0.049595\n",
       "Cash           -0.000171\n",
       "dtype: float64"
      ]
     },
     "execution_count": 13,
     "metadata": {},
     "output_type": "execute_result"
    }
   ],
   "source": [
    "bl_mu, bl_sigma = bl(w_prior= weights, sigma_prior=s, p=p, q=q)\n",
    "\n",
    "bl_mu"
   ]
  },
  {
   "cell_type": "code",
   "execution_count": 14,
   "metadata": {},
   "outputs": [
    {
     "data": {
      "text/plain": [
       "Euro Gov        0.331657\n",
       "Greek Gov      -0.004294\n",
       "EU Corporate    0.586814\n",
       "EU HY          -0.023729\n",
       "Eur Eq          0.002434\n",
       "US Eq           0.009402\n",
       "Cash            0.097717\n",
       "dtype: float64"
      ]
     },
     "execution_count": 14,
     "metadata": {},
     "output_type": "execute_result"
    }
   ],
   "source": [
    "w_msr(bl_sigma, bl_mu)"
   ]
  }
 ],
 "metadata": {
  "kernelspec": {
   "display_name": "Python 3",
   "language": "python",
   "name": "python3"
  },
  "language_info": {
   "codemirror_mode": {
    "name": "ipython",
    "version": 3
   },
   "file_extension": ".py",
   "mimetype": "text/x-python",
   "name": "python",
   "nbconvert_exporter": "python",
   "pygments_lexer": "ipython3",
   "version": "3.7.3"
  }
 },
 "nbformat": 4,
 "nbformat_minor": 2
}
